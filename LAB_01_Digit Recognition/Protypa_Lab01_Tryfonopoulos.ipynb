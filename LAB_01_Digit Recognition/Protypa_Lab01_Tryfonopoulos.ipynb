{
 "cells": [
  {
   "cell_type": "markdown",
   "metadata": {},
   "source": [
    "1η Εργαστηριακής Άσκησης:\n",
    "---------------\n",
    "**20201026 Οπτική Αναγνώριση Ψηφίων**\n",
    "\n",
    "\n",
    "Σκοπός είναι η υλοποίηση ενός συστήματος οπτικής αναγνώρισης ψηφίων. Τα δεδομένα προέρχονται από την US Postal Service (γραμμένα στο χέρι σε ταχυδρομικούς φακέλους και σκαναρισμένα) και περιέχουν τα ψηφία από το 0 έως το 9 και διακρίνονται σε train και test.\n",
    "\n",
    "Τα δεδομένα κάθε αρχείου αναπαριστούν τα περιεχόμενα ενός πίνακα  (οι τιμες των στοιχείων του πίνακα διαχωρίζονται με κενό). Κάθε γραμμή αφορά ένα ψηφίο (δείγμα). Οι στήλες αντιστοιχούν στα χαρακτηριστικά (features) που περιγράφουν τα ψηφία. Για παράδειγμα, η τιμή του (i,j) στοιχείου αφορά το j-th χαρακτηριστικό του i-th ψηφίου. Κάθε ψηφίο περιγράφεται από 257 τιμές, εκ των οποίων η πρώτη αντιστοιχεί στο ίδιο το ψηφίο (αν είναι το 0, το 1 κτλ.) και οι υπόλοιπες 256 είναι τα χαρακτηριστικά (features) που το περιγράφουν (grayscale values). Ας φανταστούμε το κάθε ψηφίο να απεικονίζεται σε έναν 16x16 πίνακα αποτελούμενο από 256 κουτάκια (“pixels”). Για να εμφανίζεται το κάθε ψηφίο στην οθόνη \"φωτίζεται\" ένα σύνολο από τέτοια κουτάκια, με τέτοιο τρόπο ώστε η συνολική εικόνα που βλέπουμε να απεικονίζει το θεωρούμενο ψηφίο. Επειδή τα ψηφία εμφανίζονται σε grayscale, κάθε μία από τις  256 τιμές αντιστοιχεί σε μία απόχρωση μαύρου για το αντίστοιχο “pixel”. Στόχος είναι η δημιουργία και αποτίμηση (evaluation) ταξινομητών οι οποίοι θα ταξινομούν κάθε ένα απο τα ψηφία που περιλαμβάνονται στα test δεδομένα σε μία από τις δέκα κατηγορίες (από το 0 έως το 9).  "
   ]
  },
  {
   "cell_type": "markdown",
   "metadata": {},
   "source": [
    "**Βήμα 1:**\n",
    "\n",
    "Διαβάστε τα δεδομένα από το αρχείο. Τα δεδομένα πρέπει να διαβαστούν σε μορφή συμβατή με το scikit-learn σε 4 πίνακες Χ_train, X_test, y_train και y_test. Ο πίνακας X_train περιέχει τα δείγματα εκπαίδευσης (χωρίς τα labels) και είναι διάστασης (n_samples_train x n_features). O y_train είναι ένας μονοδιάστατος πίνακας μήκους n_samples και περιέχει τα αντίστοιχα labels για τον X_train. Αντίστοιχα για τα test δεδομένα.\n"
   ]
  },
  {
   "cell_type": "code",
   "execution_count": 38,
   "metadata": {},
   "outputs": [
    {
     "name": "stdout",
     "output_type": "stream",
     "text": [
      "X_train shape: (7291, 256)\n",
      "y_train shape: (7291,)\n",
      "X_test shape: (2007, 256)\n",
      "y_test shape: (2007,)\n"
     ]
    }
   ],
   "source": [
    "import numpy as np\n",
    "matrix_train = np.loadtxt('D:/Αναγνώριση Προτύπων/LABS/LAB_1/pr_lab1_2020-21_data/train.txt')\n",
    "matrix_test = np.loadtxt('D:/Αναγνώριση Προτύπων/LABS/LAB_1/pr_lab1_2020-21_data/test.txt')\n",
    "\n",
    "X_train = matrix_train[:,1::]           \n",
    "y_train = matrix_train[:,0] \n",
    "X_test = matrix_test[:,1::] \n",
    "y_test = matrix_test[:,0] \n",
    "\n",
    "y_train = y_train.astype(int)\n",
    "y_test = y_test.astype(int)\n",
    "\n",
    "\n",
    "print('X_train shape:', X_train.shape)\n",
    "print('y_train shape:', y_train.shape)\n",
    "print('X_test shape:', X_test.shape)\n",
    "print('y_test shape:', y_test.shape)"
   ]
  },
  {
   "cell_type": "markdown",
   "metadata": {},
   "source": [
    "**Βήμα 2:**\n",
    "    \n",
    "Σχεδιάστε το υπ’ αριθμόν 131 ψηφίο , (βρίσκεται στη θέση 131) των train δεδομένων. Υπόδειξη:\n",
    "χρησιμοποιήστε τη συνάρτηση numpy.reshape για να οργανώσετε τα 256 χαρακτηριστικά σε ένα πίνακα 16x16,\n",
    "και τη συνάρτηση matplotlib.pyplot.imshow για την απεικόνιση του ψηφίου"
   ]
  },
  {
   "cell_type": "code",
   "execution_count": 3,
   "metadata": {},
   "outputs": [
    {
     "data": {
      "image/png": "[encoded data removed]",
      "text/plain": [
       "<Figure size 432x288 with 1 Axes>"
      ]
     },
     "metadata": {
      "needs_background": "light"
     },
     "output_type": "display_data"
    }
   ],
   "source": [
    "import matplotlib.pyplot as plt\n",
    "\n",
    "num131 = X_train[131,:]\n",
    "num131 = np.reshape(num131,(16,16))\n",
    "plt.imshow(num131, cmap = 'gray_r')\n",
    "plt.show()"
   ]
  },
  {
   "cell_type": "markdown",
   "metadata": {},
   "source": [
    "**Βήμα 3:**\n",
    "\n",
    "Διαλέξτε 1 τυχαίο δείγμα από κάθε label ,συνολικά 10 δείγματα). Σχεδιάστε τα σε ένα figure με subplots\n",
    "\n",
    "***(Hint: fig = plt.figure(); fig.add_subplot(,,,))***"
   ]
  },
  {
   "cell_type": "code",
   "execution_count": 4,
   "metadata": {},
   "outputs": [
    {
     "name": "stdout",
     "output_type": "stream",
     "text": [
      "Number of training set for number:0 1194\n",
      "Random example picked to be depicted: 5818\n",
      "Number of training set for number:1 1005\n",
      "Random example picked to be depicted: 3904\n",
      "Number of training set for number:2 731\n",
      "Random example picked to be depicted: 1945\n",
      "Number of training set for number:3 658\n",
      "Random example picked to be depicted: 4230\n",
      "Number of training set for number:4 652\n",
      "Random example picked to be depicted: 3255\n",
      "Number of training set for number:5 556\n",
      "Random example picked to be depicted: 2512\n",
      "Number of training set for number:6 664\n",
      "Random example picked to be depicted: 2777\n",
      "Number of training set for number:7 645\n",
      "Random example picked to be depicted: 238\n",
      "Number of training set for number:8 542\n",
      "Random example picked to be depicted: 69\n",
      "Number of training set for number:9 644\n",
      "Random example picked to be depicted: 3175\n"
     ]
    },
    {
     "data": {
      "image/png": "[encoded data removed]",
      "text/plain": [
       "<Figure size 432x288 with 10 Axes>"
      ]
     },
     "metadata": {
      "needs_background": "light"
     },
     "output_type": "display_data"
    }
   ],
   "source": [
    "# import matplotlib.pyplot as plt \n",
    "import random \n",
    "fig = plt.figure()\n",
    "for x in range(10):\n",
    "    A = np.where(y_train ==x)\n",
    "    print('Number of training set for number:'+np.str(x), len(A[0]))\n",
    "    B = random.choice(A[0])\n",
    "    print('Random example picked to be depicted:',B)\n",
    "    C = np.reshape(X_train[B,:], (16,16))\n",
    "    fig.add_subplot(2,5,x+1)\n",
    "    plt.imshow(C, cmap = 'gray_r')\n",
    "    \n",
    "    \n",
    "    "
   ]
  },
  {
   "cell_type": "markdown",
   "metadata": {},
   "source": [
    "**Bήμα 4**\n",
    "\n",
    "Υπολογίστε τη μέση τιμή των χαρακτηριστικών του pixel (10, 10) για το ψηφίο «0» με βάση τα train δεδομένα"
   ]
  },
  {
   "cell_type": "code",
   "execution_count": 46,
   "metadata": {},
   "outputs": [
    {
     "name": "stdout",
     "output_type": "stream",
     "text": [
      "0.025442211055276373\n"
     ]
    }
   ],
   "source": [
    "index = X_train[np.where(y_train==0)[0]]\n",
    "mean_value = np.mean(index[:, 171])\n",
    "print(mean_value)\n"
   ]
  },
  {
   "cell_type": "markdown",
   "metadata": {},
   "source": [
    "**Βήμα 5**\n",
    "Υπολογίστε τη διασπορά των χαρακτηριστικών του pixel (10, 10) για το ψηφίο «0» με βάση τα train δεδομένα."
   ]
  },
  {
   "cell_type": "code",
   "execution_count": 47,
   "metadata": {},
   "outputs": [
    {
     "name": "stdout",
     "output_type": "stream",
     "text": [
      "0.7397550004292822\n"
     ]
    }
   ],
   "source": [
    "var10 = np.var(index[:, 171])\n",
    "print(var10)"
   ]
  },
  {
   "cell_type": "markdown",
   "metadata": {},
   "source": [
    "**Βήμα 6**\n",
    "Υπολογίστε τη μέση τιμή και διασπορά των χαρακτηριστικών κάθε pixel για το ψηφίο «0» με βάση τα train\n",
    "δεδομένα."
   ]
  },
  {
   "cell_type": "code",
   "execution_count": 50,
   "metadata": {},
   "outputs": [
    {
     "data": {
      "text/plain": [
       "(256,)"
      ]
     },
     "execution_count": 50,
     "metadata": {},
     "output_type": "execute_result"
    }
   ],
   "source": [
    "mean_all = np.mean(index,axis=0)\n",
    "var_all = np.var(index,axis=0)\n",
    "mean_all.shape\n",
    "var_all.shape"
   ]
  },
  {
   "cell_type": "markdown",
   "metadata": {},
   "source": [
    "**Βήμα 7**\n",
    "Σχεδιάστε το ψηφίο «0» χρησιμοποιώντας τις τιμές της μέσης τιμής που υπολογίσατε στο Βήμα 6."
   ]
  },
  {
   "cell_type": "code",
   "execution_count": 51,
   "metadata": {},
   "outputs": [
    {
     "data": {
      "text/plain": [
       "Text(0.5, 1.0, 'Mean for digit 0')"
      ]
     },
     "execution_count": 51,
     "metadata": {},
     "output_type": "execute_result"
    },
    {
     "data": {
      "image/png": "[encoded data removed]",
      "text/plain": [
       "<Figure size 432x288 with 1 Axes>"
      ]
     },
     "metadata": {
      "needs_background": "light"
     },
     "output_type": "display_data"
    }
   ],
   "source": [
    "plt.imshow(np.reshape(mean_all,(16,16)),cmap = 'gray_r')\n",
    "plt.title('Mean for digit 0')"
   ]
  },
  {
   "cell_type": "markdown",
   "metadata": {},
   "source": [
    "**Βήμα 8**\n",
    "Σχεδιάστε το ψηφίο «0» χρησιμοποιώντας τις τιμές της διασποράς που υπολογίσατε στο Βήμα 6. Συγκρίνετε το\n",
    "αποτέλεσμα με το αποτέλεσμα του Βήματος 7 και εξηγείστε τυχόν διαφορές."
   ]
  },
  {
   "cell_type": "code",
   "execution_count": 52,
   "metadata": {},
   "outputs": [
    {
     "data": {
      "text/plain": [
       "Text(0.5, 1.0, 'Var for digit 0')"
      ]
     },
     "execution_count": 52,
     "metadata": {},
     "output_type": "execute_result"
    },
    {
     "data": {
      "image/png": "[encoded data removed]",
      "text/plain": [
       "<Figure size 432x288 with 1 Axes>"
      ]
     },
     "metadata": {
      "needs_background": "light"
     },
     "output_type": "display_data"
    }
   ],
   "source": [
    "plt.imshow(np.reshape(var_all,(16,16)),cmap = 'gray_r')\n",
    "plt.title('Var for digit 0')"
   ]
  },
  {
   "cell_type": "code",
   "execution_count": 54,
   "metadata": {},
   "outputs": [
    {
     "data": {
      "text/plain": [
       "<matplotlib.image.AxesImage at 0x2b06f039548>"
      ]
     },
     "execution_count": 54,
     "metadata": {},
     "output_type": "execute_result"
    },
    {
     "data": {
      "image/png": "[encoded data removed]",
      "text/plain": [
       "<Figure size 432x288 with 1 Axes>"
      ]
     },
     "metadata": {
      "needs_background": "light"
     },
     "output_type": "display_data"
    }
   ],
   "source": [
    "resh_mean = np.reshape(mean_all,(16,16))\n",
    "resh_var = np.reshape(var_all,(16,16))\n",
    "plt.imshow(resh_var - resh_mean, cmap = 'gray_r')"
   ]
  },
  {
   "cell_type": "code",
   "execution_count": 55,
   "metadata": {},
   "outputs": [
    {
     "data": {
      "text/plain": [
       "Text(0.5, 1.0, 'Var - Mean of Digit 0')"
      ]
     },
     "execution_count": 55,
     "metadata": {},
     "output_type": "execute_result"
    },
    {
     "data": {
      "image/png": "[encoded data removed]",
      "text/plain": [
       "<Figure size 432x288 with 4 Axes>"
      ]
     },
     "metadata": {
      "needs_background": "light"
     },
     "output_type": "display_data"
    }
   ],
   "source": [
    "fig = plt.figure()\n",
    "fig.add_subplot(1,4,1)\n",
    "plt.imshow(resh_mean, cmap = 'gray_r'); plt.title('Mean of Digit 0')\n",
    "fig.add_subplot(1,4,2)\n",
    "plt.imshow(resh_var, cmap = 'gray_r'); plt.title('Var of Digit 0')\n",
    "fig.add_subplot(1,4,3)\n",
    "plt.imshow(resh_var + resh_mean, cmap = 'gray_r'); plt.title('Mean&Var of Digit 0')\n",
    "fig.add_subplot(1,4,4)\n",
    "plt.imshow(resh_var- resh_mean, cmap = 'gray_r'); plt.title('Var - Mean of Digit 0')"
   ]
  },
  {
   "cell_type": "markdown",
   "metadata": {},
   "source": [
    "Variance measures how far a set of numbers spreads out of their average(mean) value. As we can observe from the figure 4 where we calculated the difference between the mean & the variance image there is a circled formed from missing values. Furthermore by observing figure 2 we can also notice the missing values in the middle which corresponds to the values of the mean. "
   ]
  },
  {
   "cell_type": "markdown",
   "metadata": {},
   "source": [
    "**Βήμα 9**\n",
    "\n",
    "(α) Υπολογίστε τη μέση τιμή και διασπορά των χαρακτηριστικών για όλα τα ψηφία (0-9) με βάση τα train\n",
    "δεδομένα.\n",
    "(β) Σχεδιάστε όλα τα ψηφία χρησιμοποιώντας τις τιμές της μέσης τιμής που υπολογίσατε στο Βήμα 9(α).\n"
   ]
  },
  {
   "cell_type": "code",
   "execution_count": 56,
   "metadata": {},
   "outputs": [
    {
     "data": {
      "image/png": "[encoded data removed]",
      "text/plain": [
       "<Figure size 432x288 with 10 Axes>"
      ]
     },
     "metadata": {
      "needs_background": "light"
     },
     "output_type": "display_data"
    }
   ],
   "source": [
    "mat_means=[]\n",
    "mat_var = []\n",
    "for i in range(10):\n",
    "    mat_means.append(np.mean(X_train[np.where(y_train==i)[0]],axis=0))\n",
    "    mat_var.append(np.var(X_train[np.where(y_train==i)[0]],axis=0))\n",
    "\n",
    "\n",
    "mat_means = np.array(mat_means)\n",
    "mat_var = np.array(mat_var)\n",
    "fig = plt.figure()\n",
    "for i in range(10):\n",
    "    fig.add_subplot(2,5,i+1)\n",
    "    plt.imshow(np.reshape(mat_means[i,:], (16,16)), cmap = 'gray_r'); \n",
    "\n",
    "means = np.array(mat_means)\n",
    "var = np.array(mat_var)"
   ]
  },
  {
   "cell_type": "markdown",
   "metadata": {},
   "source": [
    "**Βήμα 10**\n",
    "\n",
    "Ταξινομήστε το υπ΄αριθμόν 101 ψηφίο των test δεδομένων σε μία από τις 10 κατηγορίες (κάθε ένα από τα 10 ψηφία, 0-9, αντιπροσωπεύει μία κατηγορία) βάσει της Ευκλείδιας απόστασης (υπόδειξη: χρησιμοποιείστε τις τιμές που υπολογίσατε στο Βήμα 9(α)).  Ήταν επιτυχής η ταξινόμηση; \n",
    "\n"
   ]
  },
  {
   "cell_type": "code",
   "execution_count": 60,
   "metadata": {},
   "outputs": [
    {
     "name": "stdout",
     "output_type": "stream",
     "text": [
      "[11.80262650292571, 17.02543574404843, 13.120591033576005, 13.60399136143054, 13.551686061946802, 13.431873633626532, 13.558851104940121, 15.914748915010568, 13.6892268434276, 14.626214599216999]\n",
      "Prediction :  0\n",
      "Η ταξινόμηση δεν ήταν επιτυχής\n"
     ]
    },
    {
     "data": {
      "image/png": "[encoded data removed]",
      "text/plain": [
       "<Figure size 432x288 with 1 Axes>"
      ]
     },
     "metadata": {
      "needs_background": "light"
     },
     "output_type": "display_data"
    }
   ],
   "source": [
    "image = X_test[101].reshape(16,16)\n",
    "imgplot = plt.imshow(image,cmap='binary')\n",
    "plt.axis('off')\n",
    "plt.title('Truth: ' + str(y_test[101]))\n",
    "    \n",
    "meansdist = []\n",
    "varsdist = []\n",
    "\n",
    "for i in range(0,10):\n",
    "    meansdist.append(np.linalg.norm(X_test[101]-means[i]))\n",
    "\n",
    "print(meansdist)\n",
    "print(\"Prediction : \", meansdist.index(min(meansdist)))\n",
    "print(\"Η ταξινόμηση δεν ήταν επιτυχής\")"
   ]
  },
  {
   "cell_type": "markdown",
   "metadata": {},
   "source": [
    "**Βήμα 11**\n",
    "\n",
    "(α) Ταξινομήστε όλα τα ψηφία των test δεδομένων σε μία από τις 10 κατηγορίες με βάση την Ευκλείδια απόσταση. \n",
    "\n",
    "(β) Υπολογίστε το ποσοστό επιτυχίας για το Βήμα 11(α)."
   ]
  },
  {
   "cell_type": "code",
   "execution_count": 62,
   "metadata": {},
   "outputs": [
    {
     "name": "stdout",
     "output_type": "stream",
     "text": [
      "Accuracy : 0.8196312904833084\n"
     ]
    }
   ],
   "source": [
    "meansY = []\n",
    "temp = []\n",
    "\n",
    "for i in range (0,10):\n",
    "    meansY.append(np.mean(X_test[np.where(y_test==i)[0]],axis=0))\n",
    "\n",
    "meansdist_all = []\n",
    "\n",
    "for j in range(0, len(X_test)):\n",
    "    for i in range(0,10):\n",
    "        temp.append(np.linalg.norm(X_test[j]-meansY[i]))\n",
    "#     meansdist_all.append(temp.index(min(temp)))\n",
    "    meansdist_all.append(np.argmin(temp))\n",
    "    temp[:] = []\n",
    "\n",
    "meansacc = accuracy_score(y_test, meansdist_all)\n",
    "print(\"Accuracy :\",meansacc)\n"
   ]
  },
  {
   "cell_type": "markdown",
   "metadata": {},
   "source": [
    "**Βήμα 12:**\n",
    "\n",
    "Υλοποιήστε τον ταξινομητή ευκλείδιας απόστασης σαν ένα scikit-learn estimator. Μπορείτε να χρησιμοποιήσετε αυτό τον κώδικα σαν βάση, υλοποιώντας τις μεθόδους fit, predict και score \n",
    "\n",
    "https://gist.github.com/georgepar/b53c01466d6649c8583497d120b9b479"
   ]
  },
  {
   "cell_type": "code",
   "execution_count": 64,
   "metadata": {},
   "outputs": [
    {
     "name": "stdout",
     "output_type": "stream",
     "text": [
      "Accuracy score:  0.851323549581676\n"
     ]
    }
   ],
   "source": [
    "from sklearn.base import BaseEstimator, ClassifierMixin\n",
    "\n",
    "class EuclideanClassifier(BaseEstimator, ClassifierMixin):  \n",
    "    \"\"\"Classify samples based on the distance from the mean feature value\"\"\"\n",
    "\n",
    "    def __init__(self,):\n",
    "        self.X_mean_ = []\n",
    "\n",
    "\n",
    "    def fit(self, X, y):\n",
    "        \"\"\"\n",
    "        This should fit classifier. All the \"work\" should be done here.\n",
    "        \n",
    "        Calculates self.X_mean_ based on the mean \n",
    "        feature values in X for each class.\n",
    "        \n",
    "        self.X_mean_ becomes a numpy.ndarray of shape \n",
    "        (n_classes, n_features)\n",
    "        \n",
    "        fit always returns self.\n",
    "        \"\"\"\n",
    "        self.number_of_labels_ = len(set(y))\n",
    "        \n",
    "        for i in range (0,self.number_of_labels_):\n",
    "            self.X_mean_.append(np.mean(X[np.where(y==i)[0]],axis=0))\n",
    "        \n",
    "        self.X_mean_ = np.array(self.X_mean_)        \n",
    "        return self\n",
    "\n",
    "\n",
    "    def predict(self, X):\n",
    "        \"\"\"\n",
    "        Make predictions for X based on the\n",
    "        euclidean distance from self.X_mean_\n",
    "        \"\"\"\n",
    "        self.X_predictions_ = []\n",
    "        temp_ = []\n",
    "\n",
    "        for j in range(0, len(X)):\n",
    "            for i in range(0,self.number_of_labels_):\n",
    "                temp_.append(np.linalg.norm(X[j]-self.X_mean_[i]))\n",
    "            self.X_predictions_.append(np.argmin(temp_))\n",
    "            temp_[:] = []\n",
    "        return np.array(self.X_predictions_)\n",
    "\n",
    "    \n",
    "    def score(self, X, y):\n",
    "        \"\"\"\n",
    "        Return accuracy score on the predictions\n",
    "        for X based on ground truth y\n",
    "        \"\"\"\n",
    "        return accuracy_score(y, X)\n",
    "\n"
   ]
  },
  {
   "cell_type": "code",
   "execution_count": 65,
   "metadata": {},
   "outputs": [
    {
     "name": "stdout",
     "output_type": "stream",
     "text": [
      "Accuracy Score: 0.851323549581676\n"
     ]
    }
   ],
   "source": [
    "#Test The abobe function \n",
    "\n",
    "clf = EuclideanClassifier()\n",
    "clf.fit(X_train,y_train)\n",
    "ac_sc = clf.score(y_train, clf.predict(X_train))\n",
    "\n",
    "print('Accuracy Score:', ac_sc)"
   ]
  },
  {
   "cell_type": "markdown",
   "metadata": {},
   "source": [
    "**Βήμα 13:**\n",
    "    \n",
    "α) Υπολογίστε το score του ευκλείδιου ταξινομητή με χρήση 5-fold cross-validation"
   ]
  },
  {
   "cell_type": "code",
   "execution_count": 66,
   "metadata": {},
   "outputs": [
    {
     "name": "stderr",
     "output_type": "stream",
     "text": [
      "C:\\Users\\DTryfonopoulos\\AppData\\Local\\Continuum\\anaconda3\\lib\\site-packages\\sklearn\\model_selection\\_split.py:297: FutureWarning: Setting a random_state has no effect since shuffle is False. This will raise an error in 0.24. You should leave random_state to its default (None), or set shuffle=True.\n",
      "  FutureWarning\n"
     ]
    },
    {
     "name": "stdout",
     "output_type": "stream",
     "text": [
      "CV error = 0.151420 +-0.001816\n"
     ]
    }
   ],
   "source": [
    "from sklearn.model_selection import KFold\n",
    "from sklearn.model_selection import cross_val_score\n",
    "\n",
    "scores = cross_val_score(EuclideanClassifier(), X_train, y_train, \n",
    "                         cv=KFold(n_splits=5, random_state=42), \n",
    "                         scoring=\"accuracy\")\n",
    "print(\"CV error = %f +-%f\" % (1. - np.mean(scores), np.std(scores)))"
   ]
  },
  {
   "cell_type": "markdown",
   "metadata": {},
   "source": [
    "β) Σχεδιάστε την περιοχή απόφασης του ευκλείδιου ταξινομητή."
   ]
  },
  {
   "cell_type": "code",
   "execution_count": 67,
   "metadata": {},
   "outputs": [],
   "source": [
    "def plot_clf(clf, X, y, labels):\n",
    "    fig, ax = plt.subplots()\n",
    "    # title for the plots\n",
    "    title = ('Decision surface of Classifier')\n",
    "    # Set-up grid for plotting.\n",
    "    X0, X1 = X[:, 0], X[:, 1]\n",
    "    \n",
    "    x_min, x_max = X0.min() - 1, X0.max() + 1\n",
    "    y_min, y_max = X1.min() - 1, X1.max() + 1\n",
    "    xx, yy = np.meshgrid(np.arange(x_min, x_max, .05),\n",
    "                         np.arange(y_min, y_max, .05))\n",
    "    Z = clf.predict(np.c_[xx.ravel(), yy.ravel()])\n",
    "    Z = Z.reshape(xx.shape)\n",
    "    out = ax.contourf(xx, yy, Z, cmap=plt.cm.coolwarm, alpha=0.8)\n",
    "    \n",
    "    zeros = ax.scatter(\n",
    "        X0[y == 0], X1[y == 0],\n",
    "        c='blue', label=labels[0],\n",
    "        s=60, alpha=0.9, edgecolors='k')\n",
    "    ones = ax.scatter(\n",
    "        X0[y == 1], X1[y == 1],\n",
    "        c='red', label=labels[1], \n",
    "        s=60, alpha=0.9, edgecolors='k')\n",
    "    \n",
    "    ax.set_ylabel(labels[1])\n",
    "    ax.set_xlabel(labels[0])\n",
    "    ax.set_xticks(())\n",
    "    ax.set_yticks(())\n",
    "    ax.set_title(title)\n",
    "    ax.legend()\n",
    "    plt.show()"
   ]
  },
  {
   "cell_type": "code",
   "execution_count": 68,
   "metadata": {},
   "outputs": [
    {
     "data": {
      "image/png": "[encoded data removed]",
      "text/plain": [
       "<Figure size 432x288 with 1 Axes>"
      ]
     },
     "metadata": {},
     "output_type": "display_data"
    }
   ],
   "source": [
    "from sklearn.linear_model import LogisticRegression\n",
    "\n",
    "\n",
    "X_new = X_train[:,100:102]\n",
    "labels = ['pixel 100', 'pixel 101']\n",
    "\n",
    "clf2 = EuclideanClassifier()\n",
    "clf2.fit(X_new,y_train)\n",
    "\n",
    "plot_clf(clf2, X_new, y_train, labels)"
   ]
  },
  {
   "cell_type": "markdown",
   "metadata": {},
   "source": [
    "γ) Σχεδιάστε την καμπύλη εκμάθησης του ευκλείδιου ταξινομητή (learning curve)"
   ]
  },
  {
   "cell_type": "code",
   "execution_count": 69,
   "metadata": {},
   "outputs": [
    {
     "name": "stderr",
     "output_type": "stream",
     "text": [
      "C:\\Users\\DTryfonopoulos\\AppData\\Local\\Continuum\\anaconda3\\lib\\site-packages\\numpy\\core\\fromnumeric.py:3257: RuntimeWarning: Mean of empty slice.\n",
      "  out=out, **kwargs)\n",
      "C:\\Users\\DTryfonopoulos\\AppData\\Local\\Continuum\\anaconda3\\lib\\site-packages\\numpy\\core\\_methods.py:154: RuntimeWarning: invalid value encountered in true_divide\n",
      "  ret, rcount, out=ret, casting='unsafe', subok=False)\n"
     ]
    }
   ],
   "source": [
    "from sklearn.model_selection import learning_curve\n",
    "\n",
    "train_sizes, train_scores, test_scores = learning_curve(\n",
    "                                                   estimator = EuclideanClassifier(), X = X_train,\n",
    "                                                   y = y_train, cv = 5,train_sizes=np.linspace(.1, 1.0, 5),\n",
    "                                                   scoring = 'accuracy')"
   ]
  },
  {
   "cell_type": "code",
   "execution_count": 70,
   "metadata": {},
   "outputs": [
    {
     "data": {
      "image/png": "[encoded data removed]",
      "text/plain": [
       "<Figure size 432x288 with 1 Axes>"
      ]
     },
     "metadata": {
      "needs_background": "light"
     },
     "output_type": "display_data"
    },
    {
     "data": {
      "text/plain": [
       "<module 'matplotlib.pyplot' from 'C:\\\\Users\\\\DTryfonopoulos\\\\AppData\\\\Local\\\\Continuum\\\\anaconda3\\\\lib\\\\site-packages\\\\matplotlib\\\\pyplot.py'>"
      ]
     },
     "execution_count": 70,
     "metadata": {},
     "output_type": "execute_result"
    }
   ],
   "source": [
    "import matplotlib.pyplot as plt \n",
    "\n",
    "def plot_learning_curve(train_scores, test_scores, train_sizes, ylim=(0,1)):\n",
    "    plt.figure()\n",
    "    plt.title(\"Learning Curve\")\n",
    "    if ylim is not None: \n",
    "        plt.ylim(*ylim)\n",
    "    plt.xlabel(\"Training Examples\")\n",
    "    plt.ylabel(\"Score\")\n",
    "    \n",
    "    train_scores_mean = np.mean(train_scores, axis=1)\n",
    "    train_scores_std = np.std(train_scores, axis=1)\n",
    "    test_scores_mean = np.mean(test_scores, axis=1)\n",
    "    test_scores_std = np.std(test_scores, axis=1)\n",
    "    plt.grid()\n",
    "    \n",
    "    plt.fill_between(train_sizes, train_scores_mean - train_scores_std,\n",
    "                    train_scores_mean + train_scores_std, alpha=0.1,\n",
    "                    color = \"r\")\n",
    "    plt.fill_between(train_sizes, test_scores_mean - test_scores_std, \n",
    "                    test_scores_mean + test_scores_std, alpha=0.1,\n",
    "                    color = \"g\")\n",
    "    plt.plot(train_sizes, train_scores_mean, 'o-', color=\"r\",\n",
    "            label = \"Training score\")\n",
    "    plt.plot(train_sizes, test_scores_mean, 'o-', color=\"g\",\n",
    "            label = \" Cross-valifation score\")\n",
    "    \n",
    "    plt.legend(loc=\"best\")\n",
    "    plt.show()\n",
    "    \n",
    "    return plt \n",
    "\n",
    "plot_learning_curve(train_scores, test_scores, train_sizes, ylim=(.6,1))"
   ]
  },
  {
   "cell_type": "markdown",
   "metadata": {},
   "source": [
    "**Βήμα 14:**\n",
    "    \n",
    "Υπολογίστε τις a-priori πιθανότητες για κάθε κατηγορία."
   ]
  },
  {
   "cell_type": "code",
   "execution_count": 74,
   "metadata": {},
   "outputs": [
    {
     "name": "stdout",
     "output_type": "stream",
     "text": [
      "aPriori: [0.16376354 0.13784117 0.1002606  0.09024825 0.08942532 0.0762584\n",
      " 0.09107118 0.08846523 0.07433823 0.08832808]\n"
     ]
    }
   ],
   "source": [
    "aPriory=[]\n",
    "\n",
    "for i in range(10):\n",
    "    aPriory.append(len(X_train[np.where(y_train==i)])/ len(X_train))\n",
    "aPriory = np.array(aPriory)\n",
    "print('aPriori:', aPriory)"
   ]
  },
  {
   "cell_type": "markdown",
   "metadata": {},
   "source": [
    "**Βήμα 15:**\n",
    "    \n",
    "(α) Ταξινομήστε όλα τα ψηφία των test δεδομένων ως προς τις 10 κατηγορίες χρησιμοποιώντας τις τιμές της μέσης τιμής και διασποράς που υπολογίσατε στο Βήμα 9(α), υλοποιώντας έναν Bayesian ταξινομητή. Μην χρησιμοποιήσετε έτοιμες υλοποιήσεις. (Extra credit: αν η υλοποίηση σας είναι συμβατή με το scikit-learn όπως δείξαμε στο βήμα 12)"
   ]
  },
  {
   "cell_type": "code",
   "execution_count": 75,
   "metadata": {},
   "outputs": [
    {
     "name": "stdout",
     "output_type": "stream",
     "text": [
      "(2007, 10)\n"
     ]
    }
   ],
   "source": [
    "def NB_custom (x,mean, var):\n",
    "    var = var + 10**(-100)\n",
    "    expo = np.exp(-np.sum((np.power(x-mean,2)/(2*var))))\n",
    "    dvar = 10** (-100)\n",
    "    return (1/(np.sqrt(2*np.pi)*dvar))* expo\n",
    "\n",
    "probab = np.zeros((len(X_test), 10))\n",
    "pred = []\n",
    "for i in range(len(X_test)):\n",
    "    for j in range(10):\n",
    "        prob = NB_custom(X_test[i], means[j], var[j])\n",
    "        probab [i][j] = aPriory[j] *prob\n",
    "    pred.append(np.argmax(probab[i]))\n",
    "    \n",
    "pred = np.array(pred)\n",
    "\n",
    "print (probab.shape)"
   ]
  },
  {
   "cell_type": "markdown",
   "metadata": {},
   "source": [
    "(β) Υπολογίστε το σκορ για το Βήμα 15(α)."
   ]
  },
  {
   "cell_type": "code",
   "execution_count": 76,
   "metadata": {},
   "outputs": [
    {
     "data": {
      "text/plain": [
       "('Accyracy of NB custom classifier:', 0.8211260587942202)"
      ]
     },
     "execution_count": 76,
     "metadata": {},
     "output_type": "execute_result"
    }
   ],
   "source": [
    "acc_score = accuracy_score(y_test,pred)\n",
    "('Accyracy of NB custom classifier:'),acc_score"
   ]
  },
  {
   "cell_type": "markdown",
   "metadata": {},
   "source": [
    "(γ) Συγκρίνετε την υλοποίηση σας του Naive Bayes με την υλοποίηση του scikit-learn (GaussianNB)."
   ]
  },
  {
   "cell_type": "code",
   "execution_count": 80,
   "metadata": {},
   "outputs": [
    {
     "name": "stdout",
     "output_type": "stream",
     "text": [
      "Accyracy of NB sklearn classifier: 0.7194818136522172\n"
     ]
    }
   ],
   "source": [
    "from sklearn.naive_bayes import GaussianNB\n",
    "\n",
    "clf = GaussianNB()\n",
    "clf.fit(X_train, y_train)\n",
    "\n",
    "NB_sklearn = accuracy_score(y_test, clf.predict(X_test))\n",
    "print('Accyracy of NB sklearn classifier:',NB_sklearn)"
   ]
  },
  {
   "cell_type": "code",
   "execution_count": 81,
   "metadata": {},
   "outputs": [
    {
     "name": "stdout",
     "output_type": "stream",
     "text": [
      "My Custom_NB Classifier is better from the sklearn_NB classifier for:\n",
      "14.127423822714682 %\n"
     ]
    }
   ],
   "source": [
    "print(\"My Custom_NB Classifier is better from the sklearn_NB classifier for:\")\n",
    "print ((acc_score - NB_sklearn)/NB_sklearn * 100, '%')"
   ]
  },
  {
   "cell_type": "markdown",
   "metadata": {},
   "source": [
    "**Βήμα 16:**\n",
    "    \n",
    "Επαναλάβατε το Βήμα 15(α), (β) υποθέτοντας ότι η διασπορά για όλα τα χαρακτηριστικά, για όλες τις κατηγορίες ισούται με 1."
   ]
  },
  {
   "cell_type": "code",
   "execution_count": 82,
   "metadata": {},
   "outputs": [
    {
     "name": "stdout",
     "output_type": "stream",
     "text": [
      "Accyracy of NB custom classifier with var=1: 0.8126557050323866\n"
     ]
    }
   ],
   "source": [
    "new_var = 1 \n",
    "probab_2  = np.zeros((len(X_test),10))\n",
    "pred_2 = []\n",
    "\n",
    "for i in range(len(X_test)):\n",
    "    for j in range(10):\n",
    "        prob = NB_custom(X_test[i], means[j], new_var)\n",
    "        probab_2[i,j] = aPriory[j]*prob\n",
    "    pred_2.append(np.argmax(probab_2[i]))\n",
    "    \n",
    "NB_custom_2 = accuracy_score(y_test,pred_2)\n",
    "\n",
    "print('Accyracy of NB custom classifier with var=1:',NB_custom_2)"
   ]
  },
  {
   "cell_type": "markdown",
   "metadata": {},
   "source": [
    "**Βήμα 17:**\n",
    "    \n",
    "Συγκρίνετε την επίδοση των ταξινομητών Naive Bayes, Nearest Neighbors, SVM (με διαφορετικούς kernels). Μπορείτε να χρησιμοποιήσετε τις υλοποιήσεις του scikit-learn. "
   ]
  },
  {
   "cell_type": "code",
   "execution_count": 84,
   "metadata": {},
   "outputs": [
    {
     "name": "stdout",
     "output_type": "stream",
     "text": [
      "Nearest Neighbors accuracy: 0.9431988041853513\n",
      "SVM accuracy: 0.9422022919780767\n"
     ]
    }
   ],
   "source": [
    "from sklearn.neighbors import KNeighborsClassifier\n",
    "from sklearn.svm import SVC\n",
    "\n",
    "# Nearest Neighbors\n",
    "knn = KNeighborsClassifier(n_neighbors=4)\n",
    "knn.fit(X_train,y_train)\n",
    "knn_acc = accuracy_score(y_test, knn.predict(X_test))\n",
    "print('Nearest Neighbors accuracy:', knn_acc)\n",
    "\n",
    "# SVM\n",
    "svm = SVC(gamma='auto')\n",
    "svm.fit(X_train, y_train)\n",
    "svm_acc = accuracy_score(y_test, svm.predict(X_test))\n",
    "print('SVM accuracy:', svm_acc)"
   ]
  },
  {
   "cell_type": "markdown",
   "metadata": {},
   "source": [
    "**Βήμα 18:**\n",
    "    \n",
    "Η βασική ιδέα του βήματος αυτού είναι ο συνδυασμός κάποιων ταξινομητών με αρκετά καλή επίδοση με στόχο να επιτευχθεί επίδοση υψηλότερη των επιμέρους επιδόσεων. Αυτή η τεχνική είναι γνωστή ως ensembling. Είναι σημαντικό οι ταξινομητές που θα συνδυαστούν να χαρακτηρίζονται από διαφορετικό τύπο λαθών, π.χ., ο ένας ταξινόμητής να τείνει να ταξινομεί λάθος το ψηφίο 3, ενώ ένας άλλος να τείνει να ταξινομεί λάθος το ψηφίο 7. α) Επιλέξτε κάποιους από τους ταξινομητές που χρησιμοποιήσατε στα προηγούμενα βήματα. Χρησιμοποιήστε το VotingClassifier του scikit-learn για να τους συνδυάσετε σε hard ή soft voting. Αυτός ο μεταταξινομητής συνδυάζει τους επιμέρους ταξινομητές βάζοντάς τους να ψηφίσουν για το αποτέλεσμα. Πρέπει να επιλέξετε μονό αριθμό ταξινομητών. Γιατί;"
   ]
  },
  {
   "cell_type": "code",
   "execution_count": 85,
   "metadata": {},
   "outputs": [
    {
     "name": "stderr",
     "output_type": "stream",
     "text": [
      "C:\\Users\\DTryfonopoulos\\AppData\\Local\\Continuum\\anaconda3\\lib\\site-packages\\sklearn\\linear_model\\_logistic.py:764: ConvergenceWarning: lbfgs failed to converge (status=1):\n",
      "STOP: TOTAL NO. of ITERATIONS REACHED LIMIT.\n",
      "\n",
      "Increase the number of iterations (max_iter) or scale the data as shown in:\n",
      "    https://scikit-learn.org/stable/modules/preprocessing.html\n",
      "Please also refer to the documentation for alternative solver options:\n",
      "    https://scikit-learn.org/stable/modules/linear_model.html#logistic-regression\n",
      "  extra_warning_msg=_LOGISTIC_SOLVER_CONVERGENCE_MSG)\n",
      "C:\\Users\\DTryfonopoulos\\AppData\\Local\\Continuum\\anaconda3\\lib\\site-packages\\sklearn\\linear_model\\_logistic.py:764: ConvergenceWarning: lbfgs failed to converge (status=1):\n",
      "STOP: TOTAL NO. of ITERATIONS REACHED LIMIT.\n",
      "\n",
      "Increase the number of iterations (max_iter) or scale the data as shown in:\n",
      "    https://scikit-learn.org/stable/modules/preprocessing.html\n",
      "Please also refer to the documentation for alternative solver options:\n",
      "    https://scikit-learn.org/stable/modules/linear_model.html#logistic-regression\n",
      "  extra_warning_msg=_LOGISTIC_SOLVER_CONVERGENCE_MSG)\n",
      "C:\\Users\\DTryfonopoulos\\AppData\\Local\\Continuum\\anaconda3\\lib\\site-packages\\sklearn\\linear_model\\_logistic.py:764: ConvergenceWarning: lbfgs failed to converge (status=1):\n",
      "STOP: TOTAL NO. of ITERATIONS REACHED LIMIT.\n",
      "\n",
      "Increase the number of iterations (max_iter) or scale the data as shown in:\n",
      "    https://scikit-learn.org/stable/modules/preprocessing.html\n",
      "Please also refer to the documentation for alternative solver options:\n",
      "    https://scikit-learn.org/stable/modules/linear_model.html#logistic-regression\n",
      "  extra_warning_msg=_LOGISTIC_SOLVER_CONVERGENCE_MSG)\n",
      "C:\\Users\\DTryfonopoulos\\AppData\\Local\\Continuum\\anaconda3\\lib\\site-packages\\sklearn\\linear_model\\_logistic.py:764: ConvergenceWarning: lbfgs failed to converge (status=1):\n",
      "STOP: TOTAL NO. of ITERATIONS REACHED LIMIT.\n",
      "\n",
      "Increase the number of iterations (max_iter) or scale the data as shown in:\n",
      "    https://scikit-learn.org/stable/modules/preprocessing.html\n",
      "Please also refer to the documentation for alternative solver options:\n",
      "    https://scikit-learn.org/stable/modules/linear_model.html#logistic-regression\n",
      "  extra_warning_msg=_LOGISTIC_SOLVER_CONVERGENCE_MSG)\n",
      "C:\\Users\\DTryfonopoulos\\AppData\\Local\\Continuum\\anaconda3\\lib\\site-packages\\sklearn\\linear_model\\_logistic.py:764: ConvergenceWarning: lbfgs failed to converge (status=1):\n",
      "STOP: TOTAL NO. of ITERATIONS REACHED LIMIT.\n",
      "\n",
      "Increase the number of iterations (max_iter) or scale the data as shown in:\n",
      "    https://scikit-learn.org/stable/modules/preprocessing.html\n",
      "Please also refer to the documentation for alternative solver options:\n",
      "    https://scikit-learn.org/stable/modules/linear_model.html#logistic-regression\n",
      "  extra_warning_msg=_LOGISTIC_SOLVER_CONVERGENCE_MSG)\n",
      "C:\\Users\\DTryfonopoulos\\AppData\\Local\\Continuum\\anaconda3\\lib\\site-packages\\sklearn\\linear_model\\_logistic.py:764: ConvergenceWarning: lbfgs failed to converge (status=1):\n",
      "STOP: TOTAL NO. of ITERATIONS REACHED LIMIT.\n",
      "\n",
      "Increase the number of iterations (max_iter) or scale the data as shown in:\n",
      "    https://scikit-learn.org/stable/modules/preprocessing.html\n",
      "Please also refer to the documentation for alternative solver options:\n",
      "    https://scikit-learn.org/stable/modules/linear_model.html#logistic-regression\n",
      "  extra_warning_msg=_LOGISTIC_SOLVER_CONVERGENCE_MSG)\n",
      "C:\\Users\\DTryfonopoulos\\AppData\\Local\\Continuum\\anaconda3\\lib\\site-packages\\sklearn\\linear_model\\_logistic.py:764: ConvergenceWarning: lbfgs failed to converge (status=1):\n",
      "STOP: TOTAL NO. of ITERATIONS REACHED LIMIT.\n",
      "\n",
      "Increase the number of iterations (max_iter) or scale the data as shown in:\n",
      "    https://scikit-learn.org/stable/modules/preprocessing.html\n",
      "Please also refer to the documentation for alternative solver options:\n",
      "    https://scikit-learn.org/stable/modules/linear_model.html#logistic-regression\n",
      "  extra_warning_msg=_LOGISTIC_SOLVER_CONVERGENCE_MSG)\n",
      "C:\\Users\\DTryfonopoulos\\AppData\\Local\\Continuum\\anaconda3\\lib\\site-packages\\sklearn\\linear_model\\_logistic.py:764: ConvergenceWarning: lbfgs failed to converge (status=1):\n",
      "STOP: TOTAL NO. of ITERATIONS REACHED LIMIT.\n",
      "\n",
      "Increase the number of iterations (max_iter) or scale the data as shown in:\n",
      "    https://scikit-learn.org/stable/modules/preprocessing.html\n",
      "Please also refer to the documentation for alternative solver options:\n",
      "    https://scikit-learn.org/stable/modules/linear_model.html#logistic-regression\n",
      "  extra_warning_msg=_LOGISTIC_SOLVER_CONVERGENCE_MSG)\n",
      "C:\\Users\\DTryfonopoulos\\AppData\\Local\\Continuum\\anaconda3\\lib\\site-packages\\sklearn\\linear_model\\_logistic.py:764: ConvergenceWarning: lbfgs failed to converge (status=1):\n",
      "STOP: TOTAL NO. of ITERATIONS REACHED LIMIT.\n",
      "\n",
      "Increase the number of iterations (max_iter) or scale the data as shown in:\n",
      "    https://scikit-learn.org/stable/modules/preprocessing.html\n",
      "Please also refer to the documentation for alternative solver options:\n",
      "    https://scikit-learn.org/stable/modules/linear_model.html#logistic-regression\n",
      "  extra_warning_msg=_LOGISTIC_SOLVER_CONVERGENCE_MSG)\n",
      "C:\\Users\\DTryfonopoulos\\AppData\\Local\\Continuum\\anaconda3\\lib\\site-packages\\sklearn\\linear_model\\_logistic.py:764: ConvergenceWarning: lbfgs failed to converge (status=1):\n",
      "STOP: TOTAL NO. of ITERATIONS REACHED LIMIT.\n",
      "\n",
      "Increase the number of iterations (max_iter) or scale the data as shown in:\n",
      "    https://scikit-learn.org/stable/modules/preprocessing.html\n",
      "Please also refer to the documentation for alternative solver options:\n",
      "    https://scikit-learn.org/stable/modules/linear_model.html#logistic-regression\n",
      "  extra_warning_msg=_LOGISTIC_SOLVER_CONVERGENCE_MSG)\n"
     ]
    },
    {
     "name": "stdout",
     "output_type": "stream",
     "text": [
      "Results for the ensembling method: 0.9043358208955222\n",
      " The odd number of classifiers avoids the draws when measuring the score\n"
     ]
    }
   ],
   "source": [
    "from sklearn.linear_model import LogisticRegression\n",
    "from sklearn.naive_bayes import GaussianNB\n",
    "from sklearn.svm import LinearSVC\n",
    "from sklearn.ensemble import RandomForestClassifier\n",
    "from sklearn.ensemble import VotingClassifier\n",
    "from sklearn.tree import DecisionTreeClassifier\n",
    "from sklearn import model_selection\n",
    "from sklearn.model_selection import KFold\n",
    "from sklearn.model_selection import cross_val_score\n",
    "\n",
    "kfold = model_selection.KFold(n_splits=10)\n",
    "estimators=[]\n",
    "\n",
    "model1 = LogisticRegression()\n",
    "estimators.append(('logistic', model1))\n",
    "\n",
    "model2 = DecisionTreeClassifier()\n",
    "estimators.append(('decTree', model2))\n",
    "\n",
    "model3 = SVC()\n",
    "estimators.append(('svm', model3))\n",
    "\n",
    "#Create Ensemble Model \n",
    "ensemble = VotingClassifier(estimators)\n",
    "results = model_selection.cross_val_score(ensemble, X_test, y_test, cv = kfold)\n",
    "\n",
    "print('Results for the ensembling method:', results.mean())\n",
    "print(' The odd number of classifiers avoids the draws when measuring the score')\n"
   ]
  },
  {
   "cell_type": "markdown",
   "metadata": {},
   "source": [
    "β) Επιλέξτε έναν ταξινομητή από τα προηγούμενα βήματα και χρησιμοποιήστε τον BaggingClassifier για να δημιουργήσετε ένα ensemble. Η τεχνική bagging, αφορά στο χωρισμό του (training) dataset σε τυχαία υποσύνολα (με πιθανές επικαλύψεις) και την εφαρμογή ενός ταξινομητή σε κάθε ένα από αυτά. Η τελική απόφαση βγαίνει μέσω ψηφοφορίας ή μέσου όρου των προβλέψεων των επιμέρους ταξινομητών. Ο συνδυασμός αυτής της τεχνικής με Decision Trees μας δίνει τον ταξινομητή Random Forest."
   ]
  },
  {
   "cell_type": "code",
   "execution_count": 86,
   "metadata": {},
   "outputs": [
    {
     "name": "stdout",
     "output_type": "stream",
     "text": [
      "SVM: 0.9332336821126059\n",
      "Decision Tree: 0.8809167912306926\n"
     ]
    }
   ],
   "source": [
    "from sklearn.ensemble import BaggingClassifier\n",
    "bagging = BaggingClassifier(SVC(gamma='auto'), max_samples=0.5, max_features=0.5)\n",
    "\n",
    "bagging.fit(X_train, y_train)\n",
    "bagging_acc = ensemble_acc= accuracy_score(y_test, bagging.predict(X_test))\n",
    "print('SVM:', bagging_acc)\n",
    "\n",
    "bagging_2 = BaggingClassifier(base_estimator=None)\n",
    "bagging_2.fit(X_train, y_train)\n",
    "bagging_acc2 = ensemble_acc = accuracy_score(y_test, bagging_2.predict(X_test))\n",
    "print('Decision Tree:', bagging_acc2)"
   ]
  },
  {
   "cell_type": "markdown",
   "metadata": {},
   "source": [
    "**Βήμα 19:**\n",
    "    \n",
    "Σε αυτό το βήμα θα κάνουμε μια εισαγωγή στα νευρωνικά δίκτυα και στη βιβλιοθήκη PyTorch. α) Υλοποιήστε έναν dataloader για να αναλάβει την ανάγνωση των δεδομένων και τον χωρισμό σε batches. Ακολουθήστε αυτές τις οδηγίες (https://pytorch.org/tutorials/beginner/data_loading_tutorial.html) β) Υλοποιήστε ένα fully connected νευρωνικό δίκτυο σε PyTorch σαν μια υποκλάση της nn.Module. και εκπαιδεύστε το στα δεδομένα. Πειραματιστείτε με τον αριθμό των νευρώνων, τον αριθμό των layers και τον τύπο των μη γραμμικών actications. (οδηγίες: https://pytorch.org/tutorials/beginner/examples_nn/two_layer_net_module.html γ) Γράψτε τον κώδικα για την εκπαίδευση και το evaluation του νευρωνικού (συμβατή με το scikit-learn βλ. Βήμα 12). Χωρίστε το dataset σε train και validation για το training. δ) Αξιολογήστε την επίδοση του νευρωνικού στα δεδομένα test."
   ]
  },
  {
   "cell_type": "code",
   "execution_count": null,
   "metadata": {},
   "outputs": [],
   "source": []
  },
  {
   "cell_type": "code",
   "execution_count": null,
   "metadata": {},
   "outputs": [],
   "source": []
  },
  {
   "cell_type": "code",
   "execution_count": null,
   "metadata": {},
   "outputs": [],
   "source": []
  }
 ],
 "metadata": {
  "kernelspec": {
   "display_name": "Python 3",
   "language": "python",
   "name": "python3"
  },
  "language_info": {
   "codemirror_mode": {
    "name": "ipython",
    "version": 3
   },
   "file_extension": ".py",
   "mimetype": "text/x-python",
   "name": "python",
   "nbconvert_exporter": "python",
   "pygments_lexer": "ipython3",
   "version": "3.7.5"
  }
 },
 "nbformat": 4,
 "nbformat_minor": 2
}
